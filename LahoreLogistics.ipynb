{
 "cells": [
  {
   "cell_type": "code",
   "execution_count": 84,
   "id": "e71f58e1",
   "metadata": {},
   "outputs": [],
   "source": [
    "class Package:\n",
    "    def __init__(self, packageId, weightinKg):\n",
    "        self.packageId = packageId\n",
    "        self.weightinKg = weightinKg"
   ]
  },
  {
   "cell_type": "code",
   "execution_count": 85,
   "id": "11b35fe6",
   "metadata": {},
   "outputs": [],
   "source": [
    "class Drone:\n",
    "    def __init__(self, droneId, maxLoadinKg):\n",
    "        self.droneId = droneId\n",
    "        self.maxLoadinKg = maxLoadinKg\n",
    "        self._status = 'idle'\n",
    "        self.currentPackage = None\n",
    "        self.deliveryTime = 0\n",
    "\n",
    "    def getStatus(self):\n",
    "        return self._status\n",
    "    \n",
    "    def setStatus(self, status):\n",
    "        checkList = ['idle', 'delivering', 'charging']\n",
    "\n",
    "        if status.lower() in checkList:\n",
    "            self._status = status\n",
    "        else:\n",
    "            print(\"Invalid Status.\")\n",
    "\n",
    "    def assignPackage(self, package):\n",
    "        if self._status == 'idle' and package.weightinKg <= self.maxLoadinKg:\n",
    "            self.currentPackage = package\n",
    "            self._status = 'delivering'\n",
    "            self.deliveryTime = 3\n",
    "            print(f\"The package with Package Id {package.packageId} is currently being delivered with delivery time of {self.deliveryTime}.\")\n",
    "        elif package.weightinKg > self.maxLoadinKg:\n",
    "            print(f\"The Package Weight exceeds Max Weight limits.\")\n",
    "            print(f\"Weight limit = {self.maxLoadinKg}\")\n",
    "            print(f\"Package Weight = {package.weightinKg}\")\n",
    "            print(\"\\n\")\n",
    "        else:\n",
    "            print(f\"The drone is currently unavailable due to its current status of {self._status}.\")"
   ]
  },
  {
   "cell_type": "code",
   "execution_count": 86,
   "id": "671fe27f",
   "metadata": {},
   "outputs": [],
   "source": [
    "class FleetManager:\n",
    "    def __init__(self):\n",
    "        self.drones = {}\n",
    "        self.pendingPackages = []\n",
    "\n",
    "    def addDrone(self, drone):\n",
    "        self.drones[drone.droneId] = drone\n",
    "\n",
    "    def addPackage(self, package):\n",
    "        self.pendingPackages.append(package)\n",
    "\n",
    "    def dispatchJobs(self): \n",
    "        for drone in self.drones.values():\n",
    "            if drone.getStatus() == 'idle' and len(self.pendingPackages) != 0:\n",
    "                tempPackage = self.pendingPackages.pop(0)\n",
    "                drone.assignPackage(tempPackage)\n",
    "\n",
    "\n",
    "    def simulationTick(self):\n",
    "        for drone in self.drones.values():\n",
    "            self.dispatchJobs()\n",
    "            if drone.getStatus() == 'delivering':\n",
    "                drone.deliveryTime -= 1\n",
    "                if drone.deliveryTime == 0:\n",
    "                    drone.setStatus = 'charging'\n",
    "                    drone.currentPackage = None\n",
    "                    print(f\"Drone with drone Id {drone.droneId} have completed a delivery and is now charging.\")\n",
    "            elif drone.getStatus() == 'charging':\n",
    "                drone.setStatus('idle')\n",
    "                print(f\"The drone with drone Id {drone.droneId} is now available for delivery.\")"
   ]
  },
  {
   "cell_type": "code",
   "execution_count": 87,
   "id": "aa0257fd",
   "metadata": {},
   "outputs": [],
   "source": [
    "def simulationFlow():  # acts as our main function\n",
    "    manager = FleetManager()\n",
    "    manager.addDrone(Drone(\"drone_1\", 5))\n",
    "    manager.addDrone(Drone(\"drone_2\", 3))\n",
    "\n",
    "    # Add packages\n",
    "    manager.addPackage(Package(\"package_1\", 3))\n",
    "    manager.addPackage(Package(\"package_2\", 4))\n",
    "    manager.addPackage(Package(\"package_3\", 1))\n",
    "\n",
    "    # Dispatch\n",
    "    manager.dispatchJobs()\n",
    "\n",
    "    # Simulate time passing\n",
    "    print(\"\\n\")\n",
    "    for tick in range(1, 10):\n",
    "        print(f\"Tick {tick}:\")\n",
    "        manager.simulationTick()"
   ]
  },
  {
   "cell_type": "code",
   "execution_count": 88,
   "id": "af20924b",
   "metadata": {},
   "outputs": [
    {
     "name": "stdout",
     "output_type": "stream",
     "text": [
      "The package with Package Id package_1 is currently being delivered with delivery time of 3.\n",
      "The Package Weight exceeds Max Weight limits.\n",
      "Weight limit = 3\n",
      "Package Weight = 4\n",
      "\n",
      "\n",
      "\n",
      "\n",
      "Tick 1:\n",
      "The package with Package Id package_3 is currently being delivered with delivery time of 3.\n",
      "Tick 2:\n",
      "Tick 3:\n",
      "Drone with drone Id drone_1 have completed a delivery and is now charging.\n",
      "Drone with drone Id drone_2 have completed a delivery and is now charging.\n",
      "Tick 4:\n",
      "Tick 5:\n",
      "Tick 6:\n",
      "Tick 7:\n",
      "Tick 8:\n",
      "Tick 9:\n"
     ]
    }
   ],
   "source": [
    "simulationFlow()"
   ]
  }
 ],
 "metadata": {
  "kernelspec": {
   "display_name": "Python 3",
   "language": "python",
   "name": "python3"
  },
  "language_info": {
   "codemirror_mode": {
    "name": "ipython",
    "version": 3
   },
   "file_extension": ".py",
   "mimetype": "text/x-python",
   "name": "python",
   "nbconvert_exporter": "python",
   "pygments_lexer": "ipython3",
   "version": "3.13.7"
  }
 },
 "nbformat": 4,
 "nbformat_minor": 5
}
