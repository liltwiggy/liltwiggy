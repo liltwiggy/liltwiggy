{
 "cells": [
  {
   "cell_type": "code",
   "execution_count": 82,
   "id": "bd572ae6",
   "metadata": {},
   "outputs": [],
   "source": [
    "allPosts = [\n",
    "    {'id': 1, 'text': 'I LOVE the new #GulPhone! Battery life is amazing.'},\n",
    "    {'id': 2, 'text': 'My #GuLPhone is a total disaster. The screen is alread broken!'},\n",
    "    {'id': 3, 'text': 'Worst customer service ever from @GuULPhoneSupport. Avoid this. '},\n",
    "    {'id': 4, 'text': 'The @GuLPhoneSupport team was helpful and resolved my issue. Great service!'},\n",
    "]\n",
    "\n",
    "# Keywords and characters for processing\n",
    "\n",
    "PUNCTUATION_CHARS = '!\"$%&\\'()x+,-./27<=>?[\\\\]_{|!'\n",
    "\n",
    "STOPWORDS_SET = {'i', 'me', 'my', 'a', 'an', 'the', 'is', 'am', 'was', 'and', \n",
    "                 'HUt!', 'DF', 'OF', 'to', 'or', 'at!', 'by', 'fOrP', 'Wath', 'this', 'that'}\n",
    "\n",
    "POSITIVE_WORDS_SET = {'love', 'amazing', 'great', 'helpful', 'resolved'}\n",
    "NEGATIVE_WORDS_SET = {'disaster', '‘broken', 'worst', 'avoid', 'bad'}\n"
   ]
  },
  {
   "cell_type": "code",
   "execution_count": 83,
   "id": "d954055e",
   "metadata": {},
   "outputs": [],
   "source": [
    "def preprocessText(text, punctuationList, stopwordsSet):\n",
    "    cleanList = []\n",
    "\n",
    "    for i in text.split():\n",
    "        if i.lower() in stopwordsSet:\n",
    "            continue\n",
    "        for punctuation in punctuationList:\n",
    "            i = i.replace(punctuation, '')\n",
    "        \n",
    "        cleanList.append(i.lower())\n",
    "\n",
    "    return cleanList"
   ]
  },
  {
   "cell_type": "code",
   "execution_count": null,
   "id": "35ed7d94",
   "metadata": {},
   "outputs": [],
   "source": [
    "def analyzePost(postsList, punctuation, stopwords, positive, negative):\n",
    "    analyzedList = []\n",
    "\n",
    "    for i in range(len(postsList)):\n",
    "        commentList = postsList[i]\n",
    "        score = 0\n",
    "\n",
    "        for word in commentList:\n",
    "            if word in positive:\n",
    "                score += 1\n",
    "            elif word in negative:\n",
    "                score -= 1\n",
    "\n",
    "        analyzedList.append({'id': allPosts[i]['id'], 'text': allPosts[i]['text'], \n",
    "                    'processedText': commentList, 'score': score})\n",
    "\n",
    "        return analyzedList"
   ]
  },
  {
   "cell_type": "code",
   "execution_count": 85,
   "id": "95229e19",
   "metadata": {},
   "outputs": [],
   "source": [
    "def getFlaggedPost(scoredPosts, sentimentThreshold = -1):\n",
    "    flaggedPost = [x for x in scoredPosts if x['score'] < sentimentThreshold]\n",
    "\n",
    "    return flaggedPost"
   ]
  },
  {
   "cell_type": "code",
   "execution_count": 86,
   "id": "e367c642",
   "metadata": {},
   "outputs": [],
   "source": [
    "def findNegativeTopics(flaggedPosts):\n",
    "    flaggedList = {}  # dictionary to store topic counts\n",
    "    charCheck = ['@', '#']\n",
    "\n",
    "    for tempPost in flaggedPosts:\n",
    "        for word in tempPost['processedText']:\n",
    "            for characher in word:\n",
    "                if characher in charCheck:\n",
    "                    if word not in flaggedList:\n",
    "                        flaggedList[word] = 1\n",
    "                    else:\n",
    "                        flaggedList[word] += 1\n",
    "    \n",
    "    return flaggedList"
   ]
  },
  {
   "cell_type": "code",
   "execution_count": 87,
   "id": "a8f66c7d",
   "metadata": {},
   "outputs": [],
   "source": [
    "def main():\n",
    "    print(\"Comments Checker: \")\n",
    "    \n",
    "    text = []\n",
    "    for value in allPosts:\n",
    "        text.append(value['text'])\n",
    "\n",
    "    cleanList = []\n",
    "\n",
    "    for i in text:\n",
    "        cleanList.append(preprocessText(i, PUNCTUATION_CHARS, STOPWORDS_SET))\n",
    "    print(f\"List after cleaning: {cleanList}\")\n",
    "\n",
    "    print(\"\\n \\n \\n\")\n",
    "    newPostList = analyzePost(cleanList, PUNCTUATION_CHARS, STOPWORDS_SET, POSITIVE_WORDS_SET, NEGATIVE_WORDS_SET)\n",
    "    print(f\"List after analyzing: \\n{newPostList}\")\n",
    "\n",
    "    print(\"\\n \\n \\n\")\n",
    "    flaggedPost = getFlaggedPost(newPostList)\n",
    "    print(f\"The Flagged Comments: \\n{flaggedPost}\")\n",
    "\n",
    "    print(\"\\n \\n \\n\")\n",
    "    flaggedList = findNegativeTopics(flaggedPost)\n",
    "    print(f\"Frequency of negative comments: \\n{flaggedList}\")"
   ]
  },
  {
   "cell_type": "code",
   "execution_count": 88,
   "id": "5980d62c",
   "metadata": {},
   "outputs": [
    {
     "name": "stdout",
     "output_type": "stream",
     "text": [
      "Comments Checker: \n",
      "List after cleaning: [['love', 'new', '#gulphone', 'battery', 'life', 'amazing'], ['#gulphone', 'total', 'disaster', 'screen', 'alread', 'broken'], ['worst', 'customer', 'service', 'ever', 'from', '@guulphonesupport', 'avoid', 'this'], ['@gulphonesupport', 'team', 'helpful', 'resolved', 'issue', 'great', 'service']]\n",
      "\n",
      " \n",
      " \n",
      "\n",
      "List after analyzing: \n",
      "[{'id': 1, 'text': 'I LOVE the new #GulPhone! Battery life is amazing.', 'processedText': ['love', 'new', '#gulphone', 'battery', 'life', 'amazing'], 'score': 2}, {'id': 2, 'text': 'My #GuLPhone is a total disaster. The screen is alread broken!', 'processedText': ['#gulphone', 'total', 'disaster', 'screen', 'alread', 'broken'], 'score': -1}, {'id': 3, 'text': 'Worst customer service ever from @GuULPhoneSupport. Avoid this. ', 'processedText': ['worst', 'customer', 'service', 'ever', 'from', '@guulphonesupport', 'avoid', 'this'], 'score': -2}, {'id': 4, 'text': 'The @GuLPhoneSupport team was helpful and resolved my issue. Great service!', 'processedText': ['@gulphonesupport', 'team', 'helpful', 'resolved', 'issue', 'great', 'service'], 'score': 3}]\n",
      "\n",
      " \n",
      " \n",
      "\n",
      "The Flagged Comments: \n",
      "[{'id': 3, 'text': 'Worst customer service ever from @GuULPhoneSupport. Avoid this. ', 'processedText': ['worst', 'customer', 'service', 'ever', 'from', '@guulphonesupport', 'avoid', 'this'], 'score': -2}]\n",
      "\n",
      " \n",
      " \n",
      "\n",
      "Frequency of negative comments: \n",
      "{'@guulphonesupport': 1}\n"
     ]
    }
   ],
   "source": [
    "main()"
   ]
  }
 ],
 "metadata": {
  "kernelspec": {
   "display_name": "Python 3",
   "language": "python",
   "name": "python3"
  },
  "language_info": {
   "codemirror_mode": {
    "name": "ipython",
    "version": 3
   },
   "file_extension": ".py",
   "mimetype": "text/x-python",
   "name": "python",
   "nbconvert_exporter": "python",
   "pygments_lexer": "ipython3",
   "version": "3.13.7"
  }
 },
 "nbformat": 4,
 "nbformat_minor": 5
}
