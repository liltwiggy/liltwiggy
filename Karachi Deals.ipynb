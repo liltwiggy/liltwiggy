{
 "cells": [
  {
   "cell_type": "code",
   "execution_count": 2,
   "id": "c89a5e21",
   "metadata": {},
   "outputs": [],
   "source": [
    "transactionLog = [ {'orderId': 1001, 'customerId': 'cust_Ahmed', 'productId': 'prod_10'}, \n",
    "                    {'orderId': 1001, 'customerId': 'cust_Ahmed', 'productId': 'prod_12'}, \n",
    "                    {'orderId': 1002, 'customerId': 'cust_Bisma', 'productId': 'prod_10'}, \n",
    "                    {'orderId': 1002, 'customerId': 'cust_Bisma', 'productId': 'prod_15'}, \n",
    "                    {'orderId': 1003, 'customerId': 'cust_Ahmed', 'productId': 'prod_15'}, \n",
    "                    {'orderId': 1004, 'customerId': 'cust_Faisal', 'productId': 'prod_12'}, \n",
    "                    {'orderId': 1004, 'customerId': 'cust_Faisal', 'productId': 'prod_10'}, \n",
    "                ]\n",
    "\n",
    "productCatalog = {\n",
    "    'prod_10': 'Wireless Mouse',\n",
    "    'prod_12': 'Keyboard',\n",
    "    'prod_15': 'USB-C Hub'\n",
    "}"
   ]
  },
  {
   "cell_type": "code",
   "execution_count": 3,
   "id": "ef935eab",
   "metadata": {},
   "outputs": [],
   "source": [
    "def processTransaction(transactionLog):  # filters all the products bought by each customer\n",
    "    productList = {}\n",
    "    \n",
    "    for i in transactionLog:\n",
    "        customerName = i['customerId']\n",
    "        productID = i['productId']\n",
    "\n",
    "        if customerName not in productList:\n",
    "            productList[customerName] = set()  # creates an empty set with key as customer name\n",
    "        \n",
    "        productList[customerName].add(productID)\n",
    "\n",
    "    return productList"
   ]
  },
  {
   "cell_type": "code",
   "execution_count": null,
   "id": "6db5e04f",
   "metadata": {},
   "outputs": [
    {
     "name": "stdout",
     "output_type": "stream",
     "text": [
      "{('prod_12', 'prod_15'): 1, ('prod_10', 'prod_12'): 2, ('prod_10', 'prod_15'): 2}\n"
     ]
    }
   ],
   "source": [
    "def findFrequentPairs(customerData):\n",
    "    totalPairs = {}\n",
    "\n",
    "    for products in customerData.values():\n",
    "        products = list(products)  \n",
    "        \n",
    "        for i in range(len(products)):\n",
    "            for j in range(i + 1, len(products)):\n",
    "                pair = (products[i], products[j])\n",
    "                pair = tuple(sorted(pair))  \n",
    "                \n",
    "                if pair not in totalPairs:\n",
    "                    totalPairs[pair] = 1  # starts a count of all sets\n",
    "                else:\n",
    "                    totalPairs[pair] += 1  # increments the sets\n",
    "\n",
    "    return totalPairs"
   ]
  },
  {
   "cell_type": "code",
   "execution_count": null,
   "id": "553d70be",
   "metadata": {},
   "outputs": [
    {
     "name": "stdout",
     "output_type": "stream",
     "text": [
      "[(('prod_10', 'prod_15'), 2), (('prod_12', 'prod_15'), 1)]\n"
     ]
    }
   ],
   "source": [
    "def getRecommandation(targetProductId, frequentPairs):\n",
    "    targetPairs = {}\n",
    "\n",
    "    for pairs in frequentPairs:\n",
    "        if targetProductId in pairs:\n",
    "            targetPairs[pairs] = frequentPairs[pairs]\n",
    "\n",
    "    sorted(targetPairs)\n",
    "    targetPairs = sorted(targetPairs.items())\n",
    "\n",
    "    return targetPairs\n"
   ]
  },
  {
   "cell_type": "code",
   "execution_count": null,
   "id": "5412e150",
   "metadata": {},
   "outputs": [
    {
     "name": "stdout",
     "output_type": "stream",
     "text": [
      "\n",
      "Recommendations for USB-C Hub:\n",
      "1. Wireless Mouse — bought together 2 times\n",
      "2. Keyboard — bought together 1 times\n"
     ]
    }
   ],
   "source": [
    "def generateReport(targetProductId, recommendations, catalog):\n",
    "    print(f\"\\nRecommendations for {catalog[targetProductId]}: \")\n",
    "\n",
    "    \n",
    "    for index, (pair, count) in enumerate(recommendations, start=1):\n",
    "        otherProduct = pair[0] if pair[1] == targetProductId else pair[1]\n",
    "\n",
    "        \n",
    "        print(f\"{index}. {catalog[otherProduct]} — bought together {count} times\")"
   ]
  },
  {
   "cell_type": "code",
   "execution_count": null,
   "id": "51b729fb",
   "metadata": {},
   "outputs": [],
   "source": [
    "def main():\n",
    "    prodName = input(\"Enter the Target Product ID: \")\n",
    "\n",
    "    productList = processTransaction(transactionLog)\n",
    "    productPairs = findFrequentPairs(productList)\n",
    "\n",
    "    target = getRecommandation('prod_15', productPairs)\n",
    "\n",
    "    generateReport(prodName, target, productCatalog)\n",
    "\n",
    "    print(\"\\n \\n\")\n",
    "    print(\"Thank you.\")"
   ]
  },
  {
   "cell_type": "code",
   "execution_count": 14,
   "id": "4dd794d2",
   "metadata": {},
   "outputs": [
    {
     "name": "stdout",
     "output_type": "stream",
     "text": [
      "\n",
      "Recommendations for USB-C Hub:\n",
      "1. Wireless Mouse — bought together 2 times\n",
      "2. Keyboard — bought together 1 times\n",
      "Thank you.\n"
     ]
    }
   ],
   "source": [
    "main()"
   ]
  }
 ],
 "metadata": {
  "kernelspec": {
   "display_name": "Python 3",
   "language": "python",
   "name": "python3"
  },
  "language_info": {
   "codemirror_mode": {
    "name": "ipython",
    "version": 3
   },
   "file_extension": ".py",
   "mimetype": "text/x-python",
   "name": "python",
   "nbconvert_exporter": "python",
   "pygments_lexer": "ipython3",
   "version": "3.13.7"
  }
 },
 "nbformat": 4,
 "nbformat_minor": 5
}
